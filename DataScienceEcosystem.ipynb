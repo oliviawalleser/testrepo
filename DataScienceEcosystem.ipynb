{
 "cells": [
  {
   "cell_type": "markdown",
   "id": "9a1f9862-73b0-4442-a019-df38ece62146",
   "metadata": {
    "tags": []
   },
   "source": [
    "# Data Science Tools and Ecosystem"
   ]
  },
  {
   "cell_type": "markdown",
   "id": "526e8441-351c-4d0a-a073-9aea43ff19b0",
   "metadata": {},
   "source": [
    "## Author:\n",
    "Olivia Walleser"
   ]
  },
  {
   "cell_type": "markdown",
   "id": "d017f507-1fb2-4808-97ac-4919ec433522",
   "metadata": {},
   "source": [
    "In this notebook, Data Science Tools and Ecosystem are summarized."
   ]
  },
  {
   "cell_type": "markdown",
   "id": "ea9f69bc-a6fc-4d1a-ac58-6f5a0733324e",
   "metadata": {},
   "source": [
    "**Objectives**\n",
    "* List popular languages for data science\n",
    "* List popular libraries for data science \n",
    "* List popular open source data science tools\n",
    "* Display simple arithmetic equations in python"
   ]
  },
  {
   "cell_type": "markdown",
   "id": "0b7e96a9-9e56-4d7f-bd67-2b8ae5b162df",
   "metadata": {},
   "source": [
    "Some of the popular languages that Data Scientists use are:"
   ]
  },
  {
   "cell_type": "markdown",
   "id": "28de8537-4c94-41dc-ab9b-674d2aa76a98",
   "metadata": {},
   "source": [
    "1. Python\n",
    "2. R Language\n",
    "3. SQL\n",
    "4. JAVA\n",
    "5. Scala\n",
    "6. C++\n",
    "7. JavaScript\n",
    "8. Julia"
   ]
  },
  {
   "cell_type": "markdown",
   "id": "bfc38998-ecff-4df8-9a57-50b22bb9b1d6",
   "metadata": {},
   "source": [
    "Some of the commonly used libraries used by Data Scientists include:"
   ]
  },
  {
   "cell_type": "markdown",
   "id": "a24e0336-1d9d-4569-8ed8-3dbfefeba2a5",
   "metadata": {},
   "source": [
    "1. Pandas\n",
    "2. NumPy\n",
    "3. Matplotlib\n",
    "4. Seaborn\n",
    "5. Keras\n",
    "6. Tensor Flow\n",
    "7. ApacheSpark\n",
    "8. PyTorch\n",
    "9. ggplot2"
   ]
  },
  {
   "cell_type": "markdown",
   "id": "8df99821-8bf9-4963-92de-38f42aac8e38",
   "metadata": {},
   "source": [
    "| Data Science Tools |\n",
    "|---------------------|\n",
    "| JupyterLab |\n",
    "| Spyder |\n",
    "| RStudio |"
   ]
  },
  {
   "cell_type": "markdown",
   "id": "35842087-824b-42c2-af33-381d23436218",
   "metadata": {},
   "source": [
    "### Below are a few examples of evaluating arithmetic expressions in Python. "
   ]
  },
  {
   "cell_type": "code",
   "execution_count": 12,
   "id": "640e048a-ef7b-4282-91de-61b2fdf282e1",
   "metadata": {
    "tags": []
   },
   "outputs": [
    {
     "data": {
      "text/plain": [
       "17"
      ]
     },
     "execution_count": 12,
     "metadata": {},
     "output_type": "execute_result"
    }
   ],
   "source": [
    "# This is a simple arithmetic expression to multiply then add integers\n",
    "(3*4)+5"
   ]
  },
  {
   "cell_type": "code",
   "execution_count": 13,
   "id": "46660f99-a6a0-4ab8-ba1b-b4c4b418b7fa",
   "metadata": {
    "tags": []
   },
   "outputs": [
    {
     "data": {
      "text/plain": [
       "3.3333333333333335"
      ]
     },
     "execution_count": 13,
     "metadata": {},
     "output_type": "execute_result"
    }
   ],
   "source": [
    "#This will convert 200 minutes to hours by dividing by 60 \n",
    "200/60"
   ]
  },
  {
   "cell_type": "code",
   "execution_count": null,
   "id": "5e4e4022-5d5c-4302-af3e-633feb7fe4ef",
   "metadata": {},
   "outputs": [],
   "source": []
  }
 ],
 "metadata": {
  "kernelspec": {
   "display_name": "Python",
   "language": "python",
   "name": "conda-env-python-py"
  },
  "language_info": {
   "codemirror_mode": {
    "name": "ipython",
    "version": 3
   },
   "file_extension": ".py",
   "mimetype": "text/x-python",
   "name": "python",
   "nbconvert_exporter": "python",
   "pygments_lexer": "ipython3",
   "version": "3.7.12"
  }
 },
 "nbformat": 4,
 "nbformat_minor": 5
}
